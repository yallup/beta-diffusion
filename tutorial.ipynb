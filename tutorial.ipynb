{
 "cells": [
  {
   "cell_type": "markdown",
   "metadata": {},
   "source": [
    "# Diffusion Models\n",
    "\n",
    "Implement a Score matching generative model in JAX to emulate posterior distribtions. Package name is fusions for diffusion meets ns (primarily constricted by what is available on pypi)"
   ]
  },
  {
   "cell_type": "code",
   "execution_count": null,
   "metadata": {},
   "outputs": [],
   "source": [
    "from fusions import DiffusionModel\n",
    "import numpy as np\n",
    "import matplotlib.pyplot as plt"
   ]
  },
  {
   "cell_type": "markdown",
   "metadata": {},
   "source": [
    "Package wraps up everything in a class, designed to wrap around anesthetic (although currently just taking numpy arrays)"
   ]
  },
  {
   "cell_type": "code",
   "execution_count": null,
   "metadata": {},
   "outputs": [],
   "source": [
    "dims = 4\n",
    "from scipy.stats import multivariate_normal\n",
    "from numpy.random import default_rng\n",
    "\n",
    "rng = default_rng(0)\n",
    "from sklearn.datasets import make_spd_matrix\n",
    "cov=make_spd_matrix(dims)\n",
    "prior = multivariate_normal(mean=rng.normal(size=dims))\n",
    "model = DiffusionModel(prior)\n",
    "# model=DiffusionModel()\n",
    "# model.beta_max=20"
   ]
  },
  {
   "cell_type": "markdown",
   "metadata": {},
   "source": [
    "## Posterior to emulate\n",
    "\n",
    "Emulate a Gaussian Mixture model with a uniform prior "
   ]
  },
  {
   "cell_type": "code",
   "execution_count": null,
   "metadata": {},
   "outputs": [],
   "source": [
    "from sklearn.datasets import make_spd_matrix\n",
    "cov=make_spd_matrix(dims)\n",
    "# data = multivariate_normal(mean=rng.normal(size=dims), cov=cov).rvs(1000)\n",
    "data_1=multivariate_normal(mean=rng.normal(size=dims),cov=np.eye(dims)*0.1).rvs(1000)\n",
    "data_2=multivariate_normal(mean=rng.normal(size=dims),cov=np.eye(dims)*0.1).rvs(1000)\n",
    "data=np.concatenate([data_1,data_2])\n",
    "plt.scatter(data[:,0],data[:,1])\n",
    "# rng.normal(size=dims)"
   ]
  },
  {
   "cell_type": "markdown",
   "metadata": {},
   "source": [
    "## Train the model and use it to make predictions"
   ]
  },
  {
   "cell_type": "code",
   "execution_count": null,
   "metadata": {},
   "outputs": [],
   "source": [
    "model.train(data, n_epochs=1000,batch_size=256,lr=1e-3)"
   ]
  },
  {
   "cell_type": "code",
   "execution_count": null,
   "metadata": {},
   "outputs": [],
   "source": [
    "loss_hist=np.asarray(model.state.losses)\n",
    "plt.plot(loss_hist[...,1], loss_hist[...,0])"
   ]
  },
  {
   "cell_type": "markdown",
   "metadata": {},
   "source": [
    "Currently we are defining zero time in our diffusion process to be a gaussian prior, in theory we should be able to furnish the training process with any generative prior we like"
   ]
  },
  {
   "cell_type": "code",
   "execution_count": null,
   "metadata": {},
   "outputs": [],
   "source": [
    "x0=model.sample_prior(1000)\n",
    "x1= model.predict(x0)\n",
    "x1,x1_t=model.sample_posterior(1000,history=True)\n"
   ]
  },
  {
   "cell_type": "code",
   "execution_count": null,
   "metadata": {},
   "outputs": [],
   "source": [
    "plt.scatter(x0[:,0],x0[:,1],label=\"Prior\")\n",
    "plt.scatter(x1[:,0],x1[:,1],label=\"SGM Posterior\")\n",
    "plt.scatter(data[:,0],data[:,1],label=\"Training Samples\")\n",
    "plt.legend()"
   ]
  },
  {
   "cell_type": "markdown",
   "metadata": {},
   "source": [
    "Accuracy needs adjusting and plenty to play around with in terms of beta schedule etc. We can do cool things like plot trajectories of prior samples as a function of time as we diffuse them"
   ]
  },
  {
   "cell_type": "code",
   "execution_count": null,
   "metadata": {},
   "outputs": [],
   "source": [
    "import anesthetic as ns\n",
    "a=ns.MCMCSamples(x1).plot_2d([0,1])\n",
    "ns.MCMCSamples(data).plot_2d(a)"
   ]
  },
  {
   "cell_type": "code",
   "execution_count": null,
   "metadata": {},
   "outputs": [],
   "source": [
    "a=ns.MCMCSamples(x1).plot_2d(np.arange(5))\n",
    "ns.MCMCSamples(data).plot_2d(a)"
   ]
  }
 ],
 "metadata": {
  "kernelspec": {
   "display_name": "env",
   "language": "python",
   "name": "python3"
  },
  "language_info": {
   "codemirror_mode": {
    "name": "ipython",
    "version": 3
   },
   "file_extension": ".py",
   "mimetype": "text/x-python",
   "name": "python",
   "nbconvert_exporter": "python",
   "pygments_lexer": "ipython3",
   "version": "3.10.12"
  }
 },
 "nbformat": 4,
 "nbformat_minor": 2
}
